{
 "cells": [
  {
   "cell_type": "code",
   "execution_count": 1,
   "id": "aad92429",
   "metadata": {},
   "outputs": [
    {
     "name": "stdout",
     "output_type": "stream",
     "text": [
      "Inicio: 07/03/2022 11:51:27\n"
     ]
    }
   ],
   "source": [
    "## Script EAPV completo - TRATAMENTO DOS DADOS\n",
    "\n",
    "import pandas as pd\n",
    "import datetime\n",
    "import numpy as np\n",
    "import re\n",
    "from unidecode import unidecode\n",
    "import warnings\n",
    "warnings.filterwarnings(\"ignore\")\n",
    "pd.options.mode.chained_assignment = None\n",
    "print(\"Inicio: \" + datetime.datetime.now().strftime(\"%d/%m/%Y %H:%M:%S\"))"
   ]
  },
  {
   "cell_type": "code",
   "execution_count": 2,
   "id": "6de648f5",
   "metadata": {},
   "outputs": [
    {
     "name": "stdout",
     "output_type": "stream",
     "text": [
      "Banco importado sem tratamento: (17153, 189)\n",
      "Banco completo até 08-02-2022 com as canceladas: 17150\n",
      "Banco canceladas: 772\n",
      "Banco sem as canceladas: 16378\n",
      "Teste subtração: banco completo - canceladas = 17150 - 772 = 16378\n"
     ]
    }
   ],
   "source": [
    "## PUXANDO TODOS OS ARQUIVOS NECESSÁRIOS\n",
    "\n",
    "# Função remover acentos\n",
    "def strip_accents(text):\n",
    "    return str(unidecode(text))\n",
    "\n",
    "## Banco E-SUS\n",
    "df = pd.read_csv('Arquivos/eapv_08022022_09h23.csv', sep=';', encoding='utf8')\n",
    "print(f'Banco importado sem tratamento: {df.shape}')\n",
    "\n",
    "# Selecionar somente data da notificação até 08-02-2022 - CONFORME BOLETIM\n",
    "df['Data da Notificação'] = pd.to_datetime(df['Data da Notificação'], format='%d/%m/%Y')\n",
    "df = df[df['Data da Notificação'] <= '2022-02-08']\n",
    "\n",
    "print(f'Banco completo até 08-02-2022 com as canceladas: {df.shape[0]}')\n",
    "banco_completo = df.shape[0]\n",
    "\n",
    "# Exclusão das fichas canceladas pelo número da notificação\n",
    "# Transforma valores da coluna em strings\n",
    "df['Número da Notificação'] = df['Número da Notificação'].astype(str)\n",
    "\n",
    "# Carrega dataframe canceladas\n",
    "df_canceladas = pd.read_csv('Arquivos/eapv_canceladas_08022022.csv', sep=';', encoding='utf8')\n",
    "df_canceladas['Número da Notificação'] = df_canceladas['Número da Notificação'].astype(str)\n",
    "print(f'Banco canceladas: {df_canceladas.shape[0]}')\n",
    "banco_canceladas = df_canceladas.shape[0]\n",
    "\n",
    "# Pesquisa canceladas no df original e elimina\n",
    "notif_canceladas = df_canceladas['Número da Notificação'].to_list()\n",
    "df = df[~df['Número da Notificação'].str.contains('(?i)' + '|'.join(notif_canceladas), na=False)]\n",
    "print(f'Banco sem as canceladas: {df.shape[0]}')\n",
    "print(f'Teste subtração: banco completo - canceladas = {banco_completo} - {banco_canceladas} = {banco_completo - banco_canceladas}')\n",
    "\n",
    "## Dados nome do municipio e CRS\n",
    "data_mun_crs = pd.read_csv('Arquivos/data_mun_crs.csv', sep=';', encoding='cp1252')\n",
    "data_mun_crs.columns = [x.upper() for x in list(data_mun_crs.columns.values)]\n",
    "data_mun_crs['MUNICIPIO DE RESIDENCIA'] = data_mun_crs.apply(lambda e: strip_accents(e['MUNICIPIO DE RESIDENCIA']), axis=1)\n",
    "\n",
    "## Dados SIVEP - confirmados COVID-19 - do painel BI SES \n",
    "data_conf_painel = pd.read_csv('Arquivos/data_conf_painel_08_02.csv', sep=';', encoding='cp1252')\n",
    "data_conf_painel.columns = [x.upper() for x in list(data_conf_painel.columns.values)]\n",
    "#data_conf_painel['DATA SINTOMAS'] = data_conf_painel['DATA SINTOMAS'].dt.date\n",
    "data_conf_painel['DATA SINTOMAS'] = pd.to_datetime(data_conf_painel['DATA SINTOMAS'])\n",
    "data_conf_painel = data_conf_painel[data_conf_painel['DATA SINTOMAS'] >= '2021-01-05']\n",
    "data_conf_painel.drop_duplicates(subset=['NOME', 'CPF', 'DATA SINTOMAS'], keep='last', inplace=True)"
   ]
  },
  {
   "cell_type": "code",
   "execution_count": 4,
   "id": "10648a90",
   "metadata": {},
   "outputs": [
    {
     "name": "stdout",
     "output_type": "stream",
     "text": [
      "Banco após drop duplicates: (16378, 104)\n",
      "Banco após filtrar somente as vacinas covid: (16263, 104)\n"
     ]
    }
   ],
   "source": [
    "# Dados EAPV\n",
    "data_eapv = df.copy()\n",
    "data_eapv = data_eapv[['Número da Notificação', 'Data da Notificação', 'Estado de Residência', 'Idade Evento', 'Sexo', 'CPF', 'Município de Residência',\n",
    "                       'Data de Nascimento', 'Nome Completo da Mãe', 'Nome Completo', 'É profissional de saúde?', 'Raça/Cor', 'Comunidade/Povo Tradicional',\n",
    "                       'Relação imunobiológico ao evento adverso', 'Nome do Fabricante', 'Imunobiológico (vacina)', 'Código Imunobiológico',\n",
    "                       'Lote', 'Dose', 'Data da aplicação', 'Descrição do caso ', 'Reação / evento adverso', 'Código Evento Adverso',\n",
    "                       'Data de início', 'Tipo de Evento', 'Classificação de gravidade', 'Gravidade', 'Desfecho (evolução do caso)',\n",
    "                       'Data Desfecho', 'Gestante no momento da vacinação?', 'Doenças (CID10)', 'Descricao detalhada do Evento Adverso',\n",
    "                       'Houve atendimento médico?', 'Tipo de Atendimento', 'Observações complementares', 'CNES Estabelecimento de saúde',\n",
    "                       'Nome do exame', 'Resultado do exame', 'Data da realização do exame', 'Diagnóstico (CID-10)', 'Medicamento em uso anterior ou durante a vacinação',\n",
    "                       'Nome do Medicamento', 'Relação do medicamento ao evento adverso', 'Comentário sobre o uso', 'Encerramento Municipal - Grave?',\n",
    "                       'Encerramento Municipal - Evento adverso', 'Encerramento Municipal - Tipo', 'Encerramento Municipal - Diagnóstico', 'Encerramento Municipal - Causalidade',\n",
    "                       'Encerramento Municipal - Conduta', 'Encerramento Municipal - Informe a conduta', 'Encerramento Municipal - Comentários', 'Encerramento Municipal - CNES Estabelecimento',\n",
    "                       'Encerramento Municipal - Telefone Responsável', 'Encerramento Municipal - CPF Responsável', 'Encerramento Municipal - Nome do profissional',\n",
    "                       'Encerramento Municipal - E-mail Responsável', 'Encerramento Municipal - Ocupação do Profissional ', 'Encerramento Municipal - Data Encerramento',\n",
    "                       'Encerramento Estadual - Grave?', 'Encerramento Estadual - Evento adverso', 'Encerramento Estadual - Tipo', 'Encerramento Estadual - Diagnóstico',\n",
    "                       'Encerramento Estadual - Causalidade', 'Encerramento Estadual - Conduta', 'Encerramento Estadual - Informe a conduta', 'Encerramento Estadual - Comentários',\n",
    "                       'Encerramento Estadual - CNES Estabelecimento', 'Encerramento Estadual - Telefone Responsável', 'Encerramento Estadual - CPF Responsável', 'Encerramento Estadual - Nome do profissional',\n",
    "                       'Encerramento Estadual - E-mail Responsável', 'Encerramento Estadual - Ocupação do Profissional ', 'Encerramento Estadual - Data Encerramento',\n",
    "                       'Encerramento Federal - Grave?', 'Encerramento Federal - Evento adverso', 'Encerramento Federal - Tipo', 'Encerramento Federal - Diagnóstico',\n",
    "                       'Encerramento Federal - Causalidade', 'Encerramento Federal - Conduta', 'Encerramento Federal - Informe a conduta', 'Encerramento Federal - Comentários',\n",
    "                       'Encerramento Federal - CNES Estabelecimento', 'Encerramento Federal - Telefone Responsável', 'Encerramento Federal - CPF Responsável',\n",
    "                       'Encerramento Federal - Nome do profissional', 'Encerramento Federal - E-mail Responsável', 'Encerramento Federal - Ocupação do Profissional ',\n",
    "                       'Encerramento Federal - Data Encerramento', 'Encerramento Cifavi - Grave?', 'Encerramento Cifavi - Evento adverso', 'Encerramento Cifavi - Tipo',\n",
    "                       'Encerramento Cifavi - Diagnóstico', 'Encerramento Cifavi - Causalidade', 'Encerramento Cifavi - Conduta', 'Encerramento Cifavi - Informe a conduta',\n",
    "                       'Encerramento Cifavi - Comentários', 'Encerramento Cifavi - CNES Estabelecimento', 'Encerramento Cifavi - Telefone Responsável', 'Encerramento Cifavi - CPF Responsável',\n",
    "                       'Encerramento Cifavi - Nome do profissional', 'Encerramento Cifavi - E-mail Responsável', 'Encerramento Cifavi - Ocupação do Profissional ',\n",
    "                       'Encerramento Cifavi - Data Encerramento']]\n",
    "\n",
    "# Colunas em Maiúsculo, sem acentos e sem espaços nas bordas\n",
    "data_eapv.columns = [strip_accents(x.upper()).strip() for x in list(data_eapv.columns.values)]\n",
    "\n",
    "# Tratamento dos dados\n",
    "data_eapv = data_eapv.drop_duplicates()\n",
    "print(f'Banco após drop duplicates: {data_eapv.shape}')\n",
    "\n",
    "imunobiologico = ['oxford', 'astrazeneca', 'fiocruz', 'covishield', 'pfizer', 'comirnaty', \n",
    "                  'butantan', 'sinovac', 'coronavac', 'covid', 'janssen']\n",
    "data_eapv = data_eapv[data_eapv['IMUNOBIOLOGICO (VACINA)'].str.contains('(?i)' + '|'.join(imunobiologico), na = False)]\n",
    "print(f'Banco após filtrar somente as vacinas covid: {data_eapv.shape}')\n",
    "\n",
    "data_eapv['NOME COMPLETO'] = data_eapv.apply(lambda e: strip_accents(e['NOME COMPLETO'].upper().strip()), axis=1)\n",
    "data_eapv['MUNICIPIO DE RESIDENCIA'] = data_eapv.apply(lambda e: strip_accents(e['MUNICIPIO DE RESIDENCIA']), axis=1)\n",
    "data_eapv = data_eapv.merge(data_mun_crs, how='left')\n",
    "\n",
    "data_eapv['CPF'] = data_eapv['CPF'].str.replace('.', '').str.replace('-', '')"
   ]
  },
  {
   "cell_type": "code",
   "execution_count": 5,
   "id": "397cf016",
   "metadata": {},
   "outputs": [
    {
     "name": "stdout",
     "output_type": "stream",
     "text": [
      "Banco completo somente com vacinas COVID-19: (16263, 106)\n"
     ]
    }
   ],
   "source": [
    "# Usa coluna IDADE EVENTO e aplica inconsistente se < 12 e > 107 nas faixas etárias\n",
    "data_eapv['FAIXA ETARIA'] = 'Inconsistente'\n",
    "# Pfizer começou dia 18/07/2021 para maiores de 12 anos\n",
    "# Se vacina = Pfizer e IDADE EVENTO >= 12 e < 18 - faixa etária (12 - 17)\n",
    "data_eapv.loc[(data_eapv['IDADE EVENTO'] >=  5) & (data_eapv['IDADE EVENTO'] <= 11), 'FAIXA ETARIA'] = '05-11'\n",
    "data_eapv.loc[(data_eapv['IDADE EVENTO'] >= 12) & (data_eapv['IDADE EVENTO'] <= 17), 'FAIXA ETARIA'] = '12-17'\n",
    "data_eapv.loc[(data_eapv['IDADE EVENTO'] >= 18) & (data_eapv['IDADE EVENTO'] <= 19), 'FAIXA ETARIA'] = '18-19'\n",
    "data_eapv.loc[(data_eapv['IDADE EVENTO'] >= 20) & (data_eapv['IDADE EVENTO'] <= 24), 'FAIXA ETARIA'] = '20-24'\n",
    "data_eapv.loc[(data_eapv['IDADE EVENTO'] >= 25) & (data_eapv['IDADE EVENTO'] <= 29), 'FAIXA ETARIA'] = '25-29'\n",
    "data_eapv.loc[(data_eapv['IDADE EVENTO'] >= 30) & (data_eapv['IDADE EVENTO'] <= 34), 'FAIXA ETARIA'] = '30-34'\n",
    "data_eapv.loc[(data_eapv['IDADE EVENTO'] >= 35) & (data_eapv['IDADE EVENTO'] <= 39), 'FAIXA ETARIA'] = '35-39'\n",
    "data_eapv.loc[(data_eapv['IDADE EVENTO'] >= 40) & (data_eapv['IDADE EVENTO'] <= 44), 'FAIXA ETARIA'] = '40-44'\n",
    "data_eapv.loc[(data_eapv['IDADE EVENTO'] >= 45) & (data_eapv['IDADE EVENTO'] <= 49), 'FAIXA ETARIA'] = '45-49'\n",
    "data_eapv.loc[(data_eapv['IDADE EVENTO'] >= 50) & (data_eapv['IDADE EVENTO'] <= 54), 'FAIXA ETARIA'] = '50-54'\n",
    "data_eapv.loc[(data_eapv['IDADE EVENTO'] >= 55) & (data_eapv['IDADE EVENTO'] <= 59), 'FAIXA ETARIA'] = '55-59'\n",
    "data_eapv.loc[(data_eapv['IDADE EVENTO'] >= 60) & (data_eapv['IDADE EVENTO'] <= 64), 'FAIXA ETARIA'] = '60-64'\n",
    "data_eapv.loc[(data_eapv['IDADE EVENTO'] >= 65) & (data_eapv['IDADE EVENTO'] <= 69), 'FAIXA ETARIA'] = '65-69'\n",
    "data_eapv.loc[(data_eapv['IDADE EVENTO'] >= 70) & (data_eapv['IDADE EVENTO'] <= 74), 'FAIXA ETARIA'] = '70-74'\n",
    "data_eapv.loc[(data_eapv['IDADE EVENTO'] >= 75) & (data_eapv['IDADE EVENTO'] <= 79), 'FAIXA ETARIA'] = '75-79'\n",
    "data_eapv.loc[(data_eapv['IDADE EVENTO'] >= 80) & (data_eapv['IDADE EVENTO'] <= 107), 'FAIXA ETARIA'] = '80+'\n",
    "\n",
    "print(f'Banco completo somente com vacinas COVID-19: {data_eapv.shape}')\n",
    "df_eapv_ei_covid = data_eapv.copy()"
   ]
  },
  {
   "cell_type": "code",
   "execution_count": 6,
   "id": "7c4148b8",
   "metadata": {},
   "outputs": [
    {
     "name": "stdout",
     "output_type": "stream",
     "text": [
      "Banco Erros de Imunização: (3415, 106)\n",
      "Banco EAPV sem Erros de Imunização: (12848, 106)\n",
      "Total de fichas com faixa etária inconsistente: 15\n",
      "Banco EAPV após excluir faixas etárias inconsistentes: (12833, 106)\n"
     ]
    }
   ],
   "source": [
    "## Relatório 1 - Erro de Imunizacao\n",
    "df_erro_imunizacao = data_eapv.loc[data_eapv['TIPO DE EVENTO'].str.contains(\"(?i)erro de imunização\")]\n",
    "data_eapv = data_eapv.loc[~data_eapv['NUMERO DA NOTIFICACAO'].isin(df_erro_imunizacao['NUMERO DA NOTIFICACAO'])]\n",
    "print(f'Banco Erros de Imunização: {df_erro_imunizacao.shape}')\n",
    "print(f'Banco EAPV sem Erros de Imunização: {data_eapv.shape}')\n",
    "\n",
    "# Cria um relatorio para conferirmos no excel as faixas etarias inconscistentes\n",
    "df_inconsistentes = data_eapv[(data_eapv['FAIXA ETARIA'] == 'Inconsistente')]\n",
    "df_inconsistentes.to_excel('faixa_etaria_inconsistente.xlsx', index=False)\n",
    "print(f'Total de fichas com faixa etária inconsistente: {df_inconsistentes.shape[0]}')\n",
    "\n",
    "#Excluir faixas etárias Inconsistentes \n",
    "data_eapv = data_eapv.loc[data_eapv['FAIXA ETARIA'] != 'Inconsistente']\n",
    "print(f'Banco EAPV após excluir faixas etárias inconsistentes: {data_eapv.shape}')\n",
    "\n",
    "# Normaliza as colunas com texto de campo aberto para remover acentos e deixar tudo minusculo\n",
    "cols = ['DESCRICAO DETALHADA DO EVENTO ADVERSO', 'DESCRICAO DO CASO', 'OBSERVACOES COMPLEMENTARES', 'NOME DO EXAME', 'RESULTADO DO EXAME',\n",
    "        'ENCERRAMENTO MUNICIPAL - EVENTO ADVERSO', 'ENCERRAMENTO ESTADUAL - EVENTO ADVERSO', 'ENCERRAMENTO FEDERAL - EVENTO ADVERSO', \n",
    "        'ENCERRAMENTO CIFAVI - EVENTO ADVERSO', 'GRAVIDADE', 'DESFECHO (EVOLUCAO DO CASO)']\n",
    "data_eapv[cols] = data_eapv[cols].astype(str).apply(lambda x: x.str.normalize('NFKD').str.encode('ascii', errors='ignore').str.decode('utf-8').str.lower())\n",
    "data_eapv['REACAO / EVENTO ADVERSO'] = data_eapv.apply(lambda x: strip_accents(x['REACAO / EVENTO ADVERSO']), axis=1)"
   ]
  },
  {
   "cell_type": "code",
   "execution_count": 7,
   "id": "f0dca46e",
   "metadata": {},
   "outputs": [],
   "source": [
    "## Separar as vacinas (antes do relatorio de covid)\n",
    "\n",
    "# 1 split da vacina E colunas de info da vacina como data de aplicação\n",
    "# 2 simplificar nome das vacinas (coluna VACINA)\n",
    "# 3 Merge com data_eapv\n",
    "# 4 strip nos caracteres poluindo a data da aplicação\n",
    "# 5 drop duplicates (ignorando a coluna IMUNOBIOLOGICO)\n",
    "\n",
    "# 1 split da vacina E colunas de info da vacina como data de aplicação\n",
    "df_vacinas_separadas = pd.DataFrame()\n",
    "\n",
    "for index, row in data_eapv.iterrows():\n",
    "    vacinas = row['IMUNOBIOLOGICO (VACINA)'].split('| ')\n",
    "    data_aplicacao = row['DATA DA APLICACAO'].split('| ')\n",
    "        \n",
    "    i = 0\n",
    "    dados = {}\n",
    "    for vacina in vacinas:\n",
    "        # Trata os dados e concatena depois no dataframe\n",
    "        dados.setdefault(\"NUMERO DA NOTIFICACAO\", []).append(row['NUMERO DA NOTIFICACAO'])\n",
    "        dados.setdefault(\"IMUNOBIOLOGICO (VACINA)\", []).append(vacina)\n",
    "        dados.setdefault(\"DATA DA APLICACAO\", []).append(data_aplicacao[i])\n",
    "\n",
    "        i += 1\n",
    "\n",
    "    df_vacinas_separadas = pd.concat([df_vacinas_separadas, pd.DataFrame(dados)])\n",
    "df_vacinas_separadas\n",
    "\n",
    "# 2 simplificar nome das vacinas (coluna VACINA) e excluir outras vacinas não covid\n",
    "df_vacinas_separadas['VACINA'] = pd.Series()\n",
    "df_vacinas_separadas['IMUNOBIOLOGICO (VACINA)'] = df_vacinas_separadas['IMUNOBIOLOGICO (VACINA)'].str.lower()\n",
    "\n",
    "pfizer = ['pfizer', 'comirnaty']\n",
    "astra = ['astrazeneca', 'covishield', 'oxford', 'fiocruz']\n",
    "butantan = ['butantan', 'coronavac', 'sinovac']\n",
    "\n",
    "df_vacinas_separadas.loc[df_vacinas_separadas['IMUNOBIOLOGICO (VACINA)'].str.contains('janssen'), 'VACINA'] = 'Janssen'\n",
    "df_vacinas_separadas.loc[df_vacinas_separadas['IMUNOBIOLOGICO (VACINA)'].str.contains('(?i)' + '|'.join(pfizer)), 'VACINA'] = 'Pfizer'\n",
    "df_vacinas_separadas.loc[df_vacinas_separadas['IMUNOBIOLOGICO (VACINA)'].str.contains('(?i)' + '|'.join(astra)), 'VACINA'] = 'Astrazeneca'\n",
    "df_vacinas_separadas.loc[df_vacinas_separadas['IMUNOBIOLOGICO (VACINA)'].str.contains('(?i)' + '|'.join(butantan)), 'VACINA'] = 'Butantan'\n",
    "\n",
    "# Exclui linhas com VACINA = nan pois são outras vacinas não covid\n",
    "df_vacinas_separadas = df_vacinas_separadas[df_vacinas_separadas['VACINA'].notna()]\n",
    "\n",
    "\n",
    "# 3 MERGE com data_eapv para atualizar as novas linhas com as vacinas separadas\n",
    "# Antes do merge excluir colunas que não interessam mais\n",
    "df_vacinas_separadas.drop('IMUNOBIOLOGICO (VACINA)', axis=1, inplace=True)\n",
    "data_eapv.drop(['IMUNOBIOLOGICO (VACINA)', 'DATA DA APLICACAO'], axis=1, inplace=True)\n",
    "\n",
    "# Merge com dataframe original para adicionar as demais informações pelo numero da notificação\n",
    "data_eapv = pd.merge(df_vacinas_separadas, data_eapv, how='left', on='NUMERO DA NOTIFICACAO')\n",
    "\n",
    "# 4 strip nos caracteres poluindo a data da aplicação\n",
    "import re\n",
    "data_eapv['DATA DA APLICACAO'] = data_eapv['DATA DA APLICACAO'].str.replace('[0-9]: ', '')\n",
    "data_eapv['DATA DA APLICACAO'] = data_eapv['DATA DA APLICACAO'].str.strip()\n",
    "\n",
    "\n",
    "# 5 drop duplicates pois a VACINA tem duplicação de informações (possível ver após simplificar o nome da coluna IMUNOBIOLOGICO)\n",
    "# Ver se tem que colocar uma condição para dropar porque as vezes tem a mesma vacina lançada com 1 dia de diferença\n",
    "data_eapv = data_eapv.drop_duplicates(keep='first')\n",
    "data_eapv = data_eapv.drop_duplicates(subset=['NUMERO DA NOTIFICACAO', 'DATA DA APLICACAO'])"
   ]
  },
  {
   "cell_type": "code",
   "execution_count": 8,
   "id": "9d7a0c9e",
   "metadata": {},
   "outputs": [
    {
     "name": "stdout",
     "output_type": "stream",
     "text": [
      "Banco EAPV sem vacinas dubias e Pfizer e Janssen com data errada: (14185, 106)\n"
     ]
    }
   ],
   "source": [
    "######### ATENÇAO #############\n",
    "# Pfizer inserir na ABT somente quando aplicação em data > 04-05-2021 # iniciou pfizer POA - 04/05  ->  pfizer RS - 24-05\n",
    "# Para esta análise excluímos as Pfizer com data anterior a 04-05 e contamos como inconsistentes, pois foram notificações erradas\n",
    "data_eapv = data_eapv[~((data_eapv['VACINA'] == 'Pfizer') & \n",
    "                        (data_eapv['DATA DA NOTIFICACAO'] <= '2021-05-04'))]\n",
    "\n",
    "# Janssen inserir na ABT somente quando aplicação em data > 22-06-2021\n",
    "# Para esta análise excluímos as Janssen com data anterior a 22-06 e contamos como inconsistentes, pois foram notificações erradas\n",
    "data_eapv = data_eapv[~((data_eapv['VACINA'] == 'Janssen') & \n",
    "                        (data_eapv['DATA DA NOTIFICACAO'] <= '2021-06-22'))]\n",
    "\n",
    "print(f'Banco EAPV sem vacinas dubias e Pfizer e Janssen com data errada: {data_eapv.shape}')\n",
    "\n",
    "# TESTAR PRIMEIRO - Elimina as duplicatas por VACINA e DOSE, mantendo a última notificação no banco\n",
    "#data_eapv.drop_duplicates(subset=['VACINA', 'DOSE'], keep='last', inplace=True)\n",
    "#print(f'Banco EAPV após eliminar fichas com nome e dose duplicados: {data_eapv.shape}')"
   ]
  },
  {
   "cell_type": "code",
   "execution_count": 9,
   "id": "dbb33f43",
   "metadata": {},
   "outputs": [
    {
     "data": {
      "text/html": [
       "<div>\n",
       "<style scoped>\n",
       "    .dataframe tbody tr th:only-of-type {\n",
       "        vertical-align: middle;\n",
       "    }\n",
       "\n",
       "    .dataframe tbody tr th {\n",
       "        vertical-align: top;\n",
       "    }\n",
       "\n",
       "    .dataframe thead th {\n",
       "        text-align: right;\n",
       "    }\n",
       "</style>\n",
       "<table border=\"1\" class=\"dataframe\">\n",
       "  <thead>\n",
       "    <tr style=\"text-align: right;\">\n",
       "      <th></th>\n",
       "      <th>NUMERO DA NOTIFICACAO</th>\n",
       "      <th>REACAO / EVENTO ADVERSO</th>\n",
       "      <th>CODIGO EVENTO ADVERSO</th>\n",
       "      <th>DATA DE INICIO</th>\n",
       "      <th>CLASSIFICACAO DE GRAVIDADE</th>\n",
       "    </tr>\n",
       "  </thead>\n",
       "  <tbody>\n",
       "    <tr>\n",
       "      <th>0</th>\n",
       "      <td>1432100162526</td>\n",
       "      <td>1: Dor na garganta</td>\n",
       "      <td>1: 10033494</td>\n",
       "      <td>1: 22/10/2021</td>\n",
       "      <td>1: Não grave</td>\n",
       "    </tr>\n",
       "    <tr>\n",
       "      <th>1</th>\n",
       "      <td>1432100162526</td>\n",
       "      <td>2: Mialgia</td>\n",
       "      <td>2: 10028411</td>\n",
       "      <td>2: 22/10/2021</td>\n",
       "      <td>2: Não grave</td>\n",
       "    </tr>\n",
       "    <tr>\n",
       "      <th>2</th>\n",
       "      <td>1432100162526</td>\n",
       "      <td>3: Febre</td>\n",
       "      <td>3: 10016558</td>\n",
       "      <td>3: 22/10/2021</td>\n",
       "      <td>3: Não grave</td>\n",
       "    </tr>\n",
       "    <tr>\n",
       "      <th>0</th>\n",
       "      <td>1432100162541</td>\n",
       "      <td>1: Cefaleia</td>\n",
       "      <td>1: 10019211</td>\n",
       "      <td>1: 22/10/2021</td>\n",
       "      <td>1: Não grave</td>\n",
       "    </tr>\n",
       "    <tr>\n",
       "      <th>1</th>\n",
       "      <td>1432100162541</td>\n",
       "      <td>2: Nausea</td>\n",
       "      <td>2: 10028813</td>\n",
       "      <td>2: 22/10/2021</td>\n",
       "      <td>2: Não grave</td>\n",
       "    </tr>\n",
       "    <tr>\n",
       "      <th>...</th>\n",
       "      <td>...</td>\n",
       "      <td>...</td>\n",
       "      <td>...</td>\n",
       "      <td>...</td>\n",
       "      <td>...</td>\n",
       "    </tr>\n",
       "    <tr>\n",
       "      <th>0</th>\n",
       "      <td>1432100010677</td>\n",
       "      <td>1: Cefaleia</td>\n",
       "      <td>1: 10019211</td>\n",
       "      <td>1: 01/02/2021</td>\n",
       "      <td>1: Não grave</td>\n",
       "    </tr>\n",
       "    <tr>\n",
       "      <th>0</th>\n",
       "      <td>1432100010682</td>\n",
       "      <td>1: Dor localizada</td>\n",
       "      <td>1: 10050483</td>\n",
       "      <td>1: 03/02/2021</td>\n",
       "      <td>1: Não grave</td>\n",
       "    </tr>\n",
       "    <tr>\n",
       "      <th>1</th>\n",
       "      <td>1432100010682</td>\n",
       "      <td>2: Dor de cabeca</td>\n",
       "      <td>2: 10019198</td>\n",
       "      <td>2: 03/02/2021</td>\n",
       "      <td>2: Não grave</td>\n",
       "    </tr>\n",
       "    <tr>\n",
       "      <th>2</th>\n",
       "      <td>1432100010682</td>\n",
       "      <td>3: Dor atras dos olhos</td>\n",
       "      <td>3: 10033381</td>\n",
       "      <td>3: 03/02/2021</td>\n",
       "      <td>3: Não grave</td>\n",
       "    </tr>\n",
       "    <tr>\n",
       "      <th>0</th>\n",
       "      <td>1432100010719</td>\n",
       "      <td>1: Dor</td>\n",
       "      <td>1: 10000424</td>\n",
       "      <td>1: 26/01/2021</td>\n",
       "      <td>1: Não grave</td>\n",
       "    </tr>\n",
       "  </tbody>\n",
       "</table>\n",
       "<p>39438 rows × 5 columns</p>\n",
       "</div>"
      ],
      "text/plain": [
       "   NUMERO DA NOTIFICACAO REACAO / EVENTO ADVERSO CODIGO EVENTO ADVERSO  \\\n",
       "0          1432100162526     1: Dor na garganta           1: 10033494    \n",
       "1          1432100162526             2: Mialgia           2: 10028411    \n",
       "2          1432100162526                3: Febre           3: 10016558   \n",
       "0          1432100162541            1: Cefaleia           1: 10019211    \n",
       "1          1432100162541              2: Nausea           2: 10028813    \n",
       "..                   ...                     ...                   ...   \n",
       "0          1432100010677             1: Cefaleia           1: 10019211   \n",
       "0          1432100010682      1: Dor localizada           1: 10050483    \n",
       "1          1432100010682       2: Dor de cabeca           2: 10019198    \n",
       "2          1432100010682  3: Dor atras dos olhos           3: 10033381   \n",
       "0          1432100010719                  1: Dor           1: 10000424   \n",
       "\n",
       "    DATA DE INICIO CLASSIFICACAO DE GRAVIDADE  \n",
       "0   1: 22/10/2021               1: Não grave   \n",
       "1   2: 22/10/2021               2: Não grave   \n",
       "2    3: 22/10/2021               3: Não grave  \n",
       "0   1: 22/10/2021               1: Não grave   \n",
       "1   2: 22/10/2021               2: Não grave   \n",
       "..             ...                        ...  \n",
       "0    1: 01/02/2021               1: Não grave  \n",
       "0   1: 03/02/2021               1: Não grave   \n",
       "1   2: 03/02/2021               2: Não grave   \n",
       "2    3: 03/02/2021               3: Não grave  \n",
       "0    1: 26/01/2021               1: Não grave  \n",
       "\n",
       "[39438 rows x 5 columns]"
      ]
     },
     "execution_count": 9,
     "metadata": {},
     "output_type": "execute_result"
    }
   ],
   "source": [
    "## Separamos as vacinas com a data da aplicação de cada uma,\n",
    "# agora é preciso separar os eventos para ver qual evento se relaciona com qual vacina pela data\n",
    "# Separar as Reações adversas por data que ocorreram\n",
    "df_reacao = pd.DataFrame()\n",
    "cont = 0\n",
    "\n",
    "data_eapv['DATA DE INICIO'] = data_eapv['DATA DE INICIO'].fillna(\"\")\n",
    "\n",
    "for index, row in data_eapv.iterrows():\n",
    "    rea_eve_adverso = row['REACAO / EVENTO ADVERSO'].split('| ')\n",
    "    data_inicio = row['DATA DE INICIO'].split('| ')\n",
    "    cod_eve_adverso = row['CODIGO EVENTO ADVERSO'].split('| ')\n",
    "    gravidade = row['CLASSIFICACAO DE GRAVIDADE'].split('| ')\n",
    "        \n",
    "    i = 0\n",
    "    dados = {}\n",
    "    for rea in rea_eve_adverso:\n",
    "        # Trata os dados e concatena depois no dataframe\n",
    "        dados.setdefault(\"NUMERO DA NOTIFICACAO\", []).append(row['NUMERO DA NOTIFICACAO'])\n",
    "        dados.setdefault(\"REACAO / EVENTO ADVERSO\", []).append(rea)\n",
    "        dados.setdefault(\"CODIGO EVENTO ADVERSO\", []).append(cod_eve_adverso[i])\n",
    "        dados.setdefault(\"DATA DE INICIO\", []).append(data_inicio[i])\n",
    "        dados.setdefault(\"CLASSIFICACAO DE GRAVIDADE\", []).append(gravidade[i])\n",
    "\n",
    "        i += 1\n",
    "\n",
    "    df_reacao = pd.concat([df_reacao, pd.DataFrame(dados)])\n",
    "\n",
    "df_reacao"
   ]
  },
  {
   "cell_type": "code",
   "execution_count": 10,
   "id": "c0c68d54",
   "metadata": {},
   "outputs": [],
   "source": [
    "# Fazer merge com o dataframe original para pegar o resto das colunas\n",
    "# Primeiro excluir colunas que foram tratadas no df_reacao:\n",
    "data_eapv.drop(['REACAO / EVENTO ADVERSO', 'CODIGO EVENTO ADVERSO', 'DATA DE INICIO', 'CLASSIFICACAO DE GRAVIDADE'], axis=1, inplace=True)"
   ]
  },
  {
   "cell_type": "code",
   "execution_count": 11,
   "id": "c54038aa",
   "metadata": {},
   "outputs": [],
   "source": [
    "# Merge pelo numero da notificacao\n",
    "data_eapv = data_eapv.merge(df_reacao, on='NUMERO DA NOTIFICACAO', how='left')"
   ]
  },
  {
   "cell_type": "code",
   "execution_count": 12,
   "id": "13cfe3ad",
   "metadata": {},
   "outputs": [],
   "source": [
    "# Eliminar a numeração das strings\n",
    "data_eapv['REACAO / EVENTO ADVERSO'] = data_eapv['REACAO / EVENTO ADVERSO'].str.replace('[0-9]*: ', '').str.strip()\n",
    "data_eapv['CODIGO EVENTO ADVERSO'] = data_eapv['CODIGO EVENTO ADVERSO'].str.replace('[0-9]*: ', '').str.strip()\n",
    "data_eapv['CLASSIFICACAO DE GRAVIDADE'] = data_eapv['CLASSIFICACAO DE GRAVIDADE'].str.replace('[0-9]*: ', '').str.strip()\n",
    "data_eapv['DATA DE INICIO'] = data_eapv['DATA DE INICIO'].str.replace('[0-9]*: ', '').str.strip()"
   ]
  },
  {
   "cell_type": "code",
   "execution_count": 13,
   "id": "16d5ea9e",
   "metadata": {},
   "outputs": [
    {
     "name": "stdout",
     "output_type": "stream",
     "text": [
      "(47864, 106) (39438, 5)\n"
     ]
    }
   ],
   "source": [
    "print(data_eapv.shape, df_reacao.shape)"
   ]
  },
  {
   "cell_type": "code",
   "execution_count": 14,
   "id": "7a5c5dc5",
   "metadata": {},
   "outputs": [
    {
     "data": {
      "text/plain": [
       "(38352, 106)"
      ]
     },
     "execution_count": 14,
     "metadata": {},
     "output_type": "execute_result"
    }
   ],
   "source": [
    "# Verificar se os eventos se relacionam com a vacina pela data da aplicação x data de início dos sintomas\n",
    "# Transformar as colunas de data em datetime\n",
    "data_eapv['DATA DA APLICACAO'] = pd.to_datetime(data_eapv['DATA DA APLICACAO'], format='%d/%m/%Y', errors='coerce')\n",
    "data_eapv['DATA DE INICIO'] = pd.to_datetime(data_eapv['DATA DE INICIO'], format='%d/%m/%Y', errors='coerce')\n",
    "\n",
    "# Problema - DATA DE INICIO em branco\n",
    "# Os casos sem data de início dos sintomas tratar na mão no Excel (verificar na descrição do caso se consegue descobrir a data de inicio dos sintomas)\n",
    "teste_excluidas = pd.concat([data_eapv[~(data_eapv['DATA DE INICIO'].between(data_eapv['DATA DA APLICACAO'], (data_eapv['DATA DA APLICACAO'] + datetime.timedelta(days=29))))]])\n",
    "#teste_excluidas.to_excel('teste_excluidas.xlsx')\n",
    "\n",
    "# Excluir os casos que a data dos sintomas não ocorreu em até 30 dias após a data da aplicação da vacina\n",
    "data_eapv = pd.concat([data_eapv[data_eapv['DATA DE INICIO'].between(data_eapv['DATA DA APLICACAO'], (data_eapv['DATA DA APLICACAO'] + datetime.timedelta(days=29)))]])\n",
    "data_eapv.shape"
   ]
  },
  {
   "cell_type": "code",
   "execution_count": 15,
   "id": "8544128f",
   "metadata": {},
   "outputs": [
    {
     "name": "stdout",
     "output_type": "stream",
     "text": [
      "Banco EAPV antes de merge com SIVEP: (38352, 109)\n",
      "Banco COVID antes do merge com SIVEP: (2388, 109)\n",
      "Banco EAPV sem  COVID antes do merge com SIVEP: (35964, 109)\n"
     ]
    }
   ],
   "source": [
    "## Relatório 2 - EAPV com Infecção por COVID\n",
    "# 1) PESQUISA DE COVID NO BANCO ESUS EAPV\n",
    "#cria a coluna com o nome do exame simplificada\n",
    "data_eapv['NOME_EXAME'] = pd.Series(dtype=str)\n",
    "data_eapv.loc[data_eapv['NOME DO EXAME'].str.contains('pcr', na = False), 'NOME_EXAME'] = 'pcr'\n",
    "data_eapv.loc[data_eapv['NOME DO EXAME'].str.contains('antigeno', na = False), 'NOME_EXAME'] = 'antigeno'\n",
    "data_eapv.loc[data_eapv['NOME DO EXAME'].str.contains('swab', na = False), 'NOME_EXAME'] = 'covid'\n",
    "\n",
    "#cria a coluna com o resultado do exame simplificada\n",
    "data_eapv['RESULTADO_EXAME'] = pd.Series(dtype=str)\n",
    "data_eapv['RESULTADO DO EXAME'] = data_eapv['RESULTADO DO EXAME'].str.replace('nao detectavel', 'negativo')\\\n",
    "                                                                 .str.replace('nao detectado', 'negativo')\\\n",
    "                                                                 .str.replace('nao reagente', 'negativo')\n",
    "resultado_exame = ['positivo', 'detectavel', 'detectado', 'reagente']\n",
    "data_eapv.loc[data_eapv['RESULTADO DO EXAME'].str.contains('|'.join(resultado_exame), na = False), 'RESULTADO_EXAME'] = 'positivo'\n",
    "\n",
    "# trata colunas para datetime\n",
    "data_eapv['DATA DA REALIZACAO DO EXAME'] = pd.to_datetime(data_eapv['DATA DA REALIZACAO DO EXAME'], errors='coerce')\n",
    "data_eapv['DATA DE INICIO'] = pd.to_datetime(data_eapv['DATA DE INICIO'], errors='coerce')\n",
    "\n",
    "#cria a coluna covid_positivo com nome_exame + resultado_exame ou outras condições\n",
    "data_eapv['COVID_POSITIVO'] = pd.Series(dtype=str)\n",
    "cols_ea = ['ENCERRAMENTO MUNICIPAL - EVENTO ADVERSO',  'ENCERRAMENTO ESTADUAL - EVENTO ADVERSO', \n",
    "           'ENCERRAMENTO FEDERAL - EVENTO ADVERSO', 'ENCERRAMENTO CIFAVI - EVENTO ADVERSO']\n",
    "cols_diag = ['ENCERRAMENTO MUNICIPAL - DIAGNOSTICO', 'ENCERRAMENTO ESTADUAL - DIAGNOSTICO', \n",
    "             'ENCERRAMENTO FEDERAL - DIAGNOSTICO', 'ENCERRAMENTO CIFAVI - DIAGNOSTICO']\n",
    "data_eapv[cols_ea + cols_diag] = data_eapv[cols_ea + cols_diag].astype(str)\n",
    "\n",
    "data_eapv.loc[(((data_eapv['NOME_EXAME'].str.contains('(?i)pcr')) |\n",
    "                (data_eapv['NOME_EXAME'].str.contains('(?i)antigeno')) |\n",
    "                (data_eapv['NOME_EXAME'].str.contains('(?i)covid')))  &\n",
    "                (data_eapv['RESULTADO_EXAME'].str.contains('(?i)positivo'))), \n",
    "              'COVID_POSITIVO'] = 'covid+'\n",
    "              \n",
    "              \n",
    "data_eapv.loc[(data_eapv['ENCERRAMENTO MUNICIPAL - EVENTO ADVERSO'].str.contains('\\\\bCOVID-19\\\\b', na = False)) |\n",
    "              (data_eapv['ENCERRAMENTO ESTADUAL - EVENTO ADVERSO'].str.contains('\\\\bCOVID-19\\\\b', na = False)) |\n",
    "              (data_eapv['ENCERRAMENTO FEDERAL - EVENTO ADVERSO'].str.contains('\\\\bCOVID-19\\\\b', na = False)) |\n",
    "              (data_eapv['ENCERRAMENTO CIFAVI - EVENTO ADVERSO'].str.contains('\\\\bCOVID-19\\\\b', na = False)) |\n",
    "              (data_eapv['ENCERRAMENTO MUNICIPAL - DIAGNOSTICO'].str.contains('(?i)b342|u071|u072|b972|u04', na=False)) |\n",
    "              (data_eapv['ENCERRAMENTO ESTADUAL - DIAGNOSTICO'].str.contains('(?i)b342|u071|u072|b972|u04', na=False)) |\n",
    "              (data_eapv['ENCERRAMENTO FEDERAL - DIAGNOSTICO'].str.contains('(?i)b342|u071|u072|b972|u04', na=False)) |\n",
    "              (data_eapv['ENCERRAMENTO CIFAVI - DIAGNOSTICO'].str.contains('(?i)b342|u071|u072|b972|u04', na=False)) |\n",
    "              (data_eapv['DIAGNOSTICO (CID-10)'].str.contains('(?i)b342|u071|u072|b972|u04', na=False)) |\n",
    "              (data_eapv['REACAO / EVENTO ADVERSO'].str.contains('(?i)teste de covid-19 por pcr positivo', na=False)), 'COVID_POSITIVO'] = 'covid+'\n",
    "\n",
    "print(f'Banco EAPV antes de merge com SIVEP: {data_eapv.shape}')\n",
    "\n",
    "df_covid = data_eapv[data_eapv['COVID_POSITIVO'] == 'covid+']\n",
    "print(f'Banco COVID antes do merge com SIVEP: {df_covid.shape}')\n",
    "\n",
    "data_eapv = data_eapv.loc[data_eapv['COVID_POSITIVO'] != 'covid+']\n",
    "print(f'Banco EAPV sem  COVID antes do merge com SIVEP: {data_eapv.shape}')"
   ]
  },
  {
   "cell_type": "code",
   "execution_count": 16,
   "id": "1b7ca5b9",
   "metadata": {},
   "outputs": [
    {
     "name": "stdout",
     "output_type": "stream",
     "text": [
      "Banco SIVEP COVID+ : (984, 113)\n",
      "Banco EAPV após exclusão dos covid+ do SIVEP: (34976, 109)\n",
      "Banco COVID após inclusão dos covid+ do SIVEP: (3372, 113)\n",
      "Foram excluídas do Banco EAPV as fichas em que a data dos sintomas de COVID ocorreu no range de 14 dias antes e 14 dias após a aplicação da vacina. Se os sintomas ocorrem nesse período se atribuem a COVID e não à vacina.\n"
     ]
    }
   ],
   "source": [
    "# 2) PESQUISA DE COVID NO BANCO SIVEP (MERGE PELO CPF)\n",
    "\n",
    "# FOI ALTERADO, POIS AGORA TEMOS A DATA DE APLICAÇÃO DE CADA UMA DAS VACINAS\n",
    "# inserida a 'DATA DA REALIZACAO DO EXAME' na condição\n",
    "# A partir de agora gerar o relatório de covid a partir da base evento adverso \n",
    "# (não tem como usar a base limpa pois nela as vacinas não estão separadas e não temos como bater a data da aplicação)\n",
    "# verifica se a data da realização do exame de covid ocorreu no range de 14 dias antes ou 14 dias após a data de inicio dos sintomas\n",
    "\n",
    "# Merge data_eapv com dados do painel (SIVEP+ESUS) confirmados COVID\n",
    "df_eapv_sivep = pd.merge(data_eapv.loc[pd.notnull(data_eapv['CPF'])],\n",
    "                          data_conf_painel.loc[pd.notnull(data_conf_painel['CPF'])],\n",
    "                          on=  ['CPF'],\n",
    "                          how = 'left')\n",
    "\n",
    "# Excluir os casos que a data dos sintomas está fora da range 14 dias antes e 14 dias após a vacina\n",
    "df_eapv_sivep = pd.concat([df_eapv_sivep[df_eapv_sivep['DATA SINTOMAS'].between((df_eapv_sivep['DATA DA APLICACAO'] - datetime.timedelta(days=14)),\n",
    "                                                                                (df_eapv_sivep['DATA DA APLICACAO'] + datetime.timedelta(days=14)))]])\n",
    "\n",
    "print(f'Banco SIVEP COVID+ : {df_eapv_sivep.shape}')\n",
    "\n",
    "# Se as notificações do data_eapv estiverem entre as notificações do df_eapv_sivep, deletar\n",
    "data_eapv = data_eapv.loc[~data_eapv['NUMERO DA NOTIFICACAO'].isin(df_eapv_sivep['NUMERO DA NOTIFICACAO'])]\n",
    "print(f'Banco EAPV após exclusão dos covid+ do SIVEP: {data_eapv.shape}')\n",
    "\n",
    "# Se as notificações do df_covid não estiverem entre as notificações do df_eapv_sivep, adicionar\n",
    "df_covid = pd.concat([df_covid, df_eapv_sivep], join='outer')\n",
    "df_covid['COVID_POSITIVO'] = 'covid+'\n",
    "print(f'Banco COVID após inclusão dos covid+ do SIVEP: {df_covid.shape}')\n",
    "print('Foram excluídas do Banco EAPV as fichas em que a data dos sintomas de COVID ocorreu no range de 14 dias antes '\n",
    "      'e 14 dias após a aplicação da vacina. Se os sintomas ocorrem nesse período se atribuem a COVID e não à vacina.')"
   ]
  },
  {
   "cell_type": "code",
   "execution_count": 17,
   "id": "9a3aa8c1",
   "metadata": {},
   "outputs": [
    {
     "data": {
      "text/plain": [
       "208"
      ]
     },
     "execution_count": 17,
     "metadata": {},
     "output_type": "execute_result"
    }
   ],
   "source": [
    "## Relatório 3 - Eventos adversos com óbitos\n",
    "## Esta coluna nova com a informação do óbito tem que ser feita depois do split das reações, pois é preciso saber qual vacina\n",
    "# está temporalmente associada com o óbito\n",
    "data_eapv['OBITO'] = 'nao'\n",
    "obito = ['obito', 'falec', '\\\\bmorte\\\\b'] #Pesquisa por toda palavra 'morte'\n",
    "\n",
    "data_eapv.loc[(data_eapv['DESCRICAO DETALHADA DO EVENTO ADVERSO'].str.contains('(?i)' + '|'.join(obito), na = False)) |\n",
    "              (data_eapv['DESCRICAO DO CASO'].str.contains('(?i)' + '|'.join(obito), na = False)) |\n",
    "              (data_eapv['GRAVIDADE'].str.contains('ocasione o obito', na = False)), 'OBITO'] = 'provavel'\n",
    "\n",
    "data_eapv.loc[(data_eapv['OBSERVACOES COMPLEMENTARES'].str.contains('(?i)' + '|'.join(obito), na = False)) |\n",
    "              (data_eapv['ENCERRAMENTO MUNICIPAL - EVENTO ADVERSO'].str.contains('(?i)' + '|'.join(obito), na = False)) |\n",
    "              (data_eapv['ENCERRAMENTO ESTADUAL - EVENTO ADVERSO'].str.contains('(?i)' + '|'.join(obito), na = False)) |\n",
    "              (data_eapv['ENCERRAMENTO FEDERAL - EVENTO ADVERSO'].str.contains('(?i)' + '|'.join(obito), na = False)) |\n",
    "              (data_eapv['ENCERRAMENTO CIFAVI - EVENTO ADVERSO'].str.contains('(?i)' + '|'.join(obito), na = False)) |\n",
    "              (data_eapv['REACAO / EVENTO ADVERSO'].str.contains('(?i)' + '|'.join(obito), na = False)) |\n",
    "              (data_eapv['DESFECHO (EVOLUCAO DO CASO)'].str.contains('(?i)' + '|'.join(obito), na = False)), 'OBITO'] = 'sim'\n",
    "\n",
    "\n",
    "# Banco preliminar de óbitos (necessita conferência manual)\n",
    "df_obitos = data_eapv[(data_eapv['OBITO'] == 'sim') | (data_eapv['OBITO'] == 'provavel')]\n",
    "\n",
    "# O banco óbitos está por evento, para saber n de pessoas:\n",
    "df_obitos['NOME COMPLETO'].nunique()"
   ]
  },
  {
   "cell_type": "markdown",
   "id": "84cd94e4",
   "metadata": {},
   "source": [
    "EXPORTAR RELATÓRIOS"
   ]
  },
  {
   "cell_type": "code",
   "execution_count": 21,
   "id": "fed61cc2",
   "metadata": {},
   "outputs": [
    {
     "name": "stdout",
     "output_type": "stream",
     "text": [
      "ok\n",
      "Término: 07/03/2022 12:00:56\n"
     ]
    }
   ],
   "source": [
    "# Relatório evento adverso com vacinas separadas, com óbitos e sem covid\n",
    "df_erro_imunizacao.to_csv('Relatorios/erro_imunizacao.csv', sep=';', encoding='utf-8-sig', index=False)\n",
    "df_covid.to_excel('Relatorios/infeccao_covid.xlsx', index=False)\n",
    "data_eapv.to_csv('Relatorios/evento_adverso.csv', sep=';', encoding='utf-8-sig', index=False)\n",
    "#data_eapv.to_excel(r'Relatorios/evento_adverso.xlsx', index=False)\n",
    "\n",
    "print('ok')\n",
    "print(\"Término: \" + datetime.datetime.now().strftime(\"%d/%m/%Y %H:%M:%S\"))"
   ]
  },
  {
   "cell_type": "code",
   "execution_count": null,
   "id": "41fe1c45",
   "metadata": {},
   "outputs": [],
   "source": []
  }
 ],
 "metadata": {
  "kernelspec": {
   "display_name": "Python 3",
   "language": "python",
   "name": "python3"
  },
  "language_info": {
   "codemirror_mode": {
    "name": "ipython",
    "version": 3
   },
   "file_extension": ".py",
   "mimetype": "text/x-python",
   "name": "python",
   "nbconvert_exporter": "python",
   "pygments_lexer": "ipython3",
   "version": "3.8.8"
  }
 },
 "nbformat": 4,
 "nbformat_minor": 5
}
