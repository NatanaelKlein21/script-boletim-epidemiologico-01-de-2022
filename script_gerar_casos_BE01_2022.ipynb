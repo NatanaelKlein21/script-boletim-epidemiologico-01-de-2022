{
 "cells": [
  {
   "cell_type": "code",
   "execution_count": 2,
   "metadata": {},
   "outputs": [],
   "source": [
    "## GERAR CASOS de guillain barre e trombose\n",
    "#  conferir manualmente\n",
    "#  fazer a análise no scrip_incidencia_geral"
   ]
  },
  {
   "cell_type": "code",
   "execution_count": 1,
   "metadata": {},
   "outputs": [],
   "source": [
    "import pandas as pd\n",
    "import warnings\n",
    "warnings.filterwarnings(\"ignore\")\n",
    "\n",
    "# Chamar banco evento_advero\n",
    "#df = pd.read_excel('Relatorios/evento_adverso.xlsx')\n",
    "df = pd.read_csv('Arquivos/eapv_08022022_09h23.csv', sep=';', encoding='utf-8')\n",
    "banco_completo = df.shape[0]"
   ]
  },
  {
   "cell_type": "code",
   "execution_count": 3,
   "metadata": {},
   "outputs": [
    {
     "name": "stdout",
     "output_type": "stream",
     "text": [
      "Banco sem as canceladas: 16381\n",
      "Banco completo: 17153 - canceladas: 772 = 16381\n"
     ]
    }
   ],
   "source": [
    "# Transformando ['Número da Notificação'] para string\n",
    "df['Número da Notificação'] = df['Número da Notificação'].astype(str)\n",
    "# puxar arquivo canceladas\n",
    "df_canceladas = pd.read_csv('Arquivos/eapv_canceladas_08022022.csv', sep=';', encoding='utf-8')\n",
    "# df_canceladas passa a ser apenas a coluna 'Número da Notificação' e em string\n",
    "df_canceladas = df_canceladas[['Número da Notificação']].astype(str)\n",
    "# Transformando o banco df_canceladas para uma lista notif_canceladas\n",
    "banco_canceladas = df_canceladas.shape[0]\n",
    "notif_canceladas = df_canceladas['Número da Notificação'].to_list()\n",
    "# TIRANDO AS EXCLUÍDAS DO BANCO DE DADOS \n",
    "df = df[~df['Número da Notificação'].str.contains('(?i)' + '|'.join(notif_canceladas), na=False)]\n",
    "# conferir\n",
    "print(f'Banco sem as canceladas: {df.shape[0]}')\n",
    "print(f'Banco completo: {banco_completo} - canceladas: {banco_canceladas} = {banco_completo - banco_canceladas}')\n",
    "# Verificar se ficou alguma cancelada e excluir do banco\n",
    "df[df['Situação da Notificação'] == 'Cancelado']\n",
    "df = df[~df['Situação da Notificação'].str.contains('Cancelado', na=False)]"
   ]
  },
  {
   "cell_type": "code",
   "execution_count": 4,
   "metadata": {},
   "outputs": [
    {
     "data": {
      "text/html": [
       "<div>\n",
       "<style scoped>\n",
       "    .dataframe tbody tr th:only-of-type {\n",
       "        vertical-align: middle;\n",
       "    }\n",
       "\n",
       "    .dataframe tbody tr th {\n",
       "        vertical-align: top;\n",
       "    }\n",
       "\n",
       "    .dataframe thead th {\n",
       "        text-align: right;\n",
       "    }\n",
       "</style>\n",
       "<table border=\"1\" class=\"dataframe\">\n",
       "  <thead>\n",
       "    <tr style=\"text-align: right;\">\n",
       "      <th></th>\n",
       "      <th>Situação da Notificação</th>\n",
       "      <th>Total</th>\n",
       "      <th>%</th>\n",
       "    </tr>\n",
       "  </thead>\n",
       "  <tbody>\n",
       "    <tr>\n",
       "      <th>0</th>\n",
       "      <td>Aberto</td>\n",
       "      <td>8131</td>\n",
       "      <td>50.0</td>\n",
       "    </tr>\n",
       "    <tr>\n",
       "      <th>1</th>\n",
       "      <td>Encerrado</td>\n",
       "      <td>8247</td>\n",
       "      <td>50.0</td>\n",
       "    </tr>\n",
       "  </tbody>\n",
       "</table>\n",
       "</div>"
      ],
      "text/plain": [
       "  Situação da Notificação  Total     %\n",
       "0                  Aberto   8131  50.0\n",
       "1               Encerrado   8247  50.0"
      ]
     },
     "execution_count": 4,
     "metadata": {},
     "output_type": "execute_result"
    }
   ],
   "source": [
    "# Situação das notificações\n",
    "df_enc = df[['Situação da Notificação']]\n",
    "df_enc.loc[df_enc['Situação da Notificação'].str.contains('Em Avaliação'), 'Situação da Notificação'] = 'Aberto'\n",
    "df_enc['Total'] = 1\n",
    "df_enc = df_enc.groupby(by=['Situação da Notificação']).sum().reset_index()\n",
    "df_enc['%'] = ((df_enc['Total']/df.shape[0])*100).round(0)\n",
    "df_enc"
   ]
  },
  {
   "cell_type": "markdown",
   "metadata": {},
   "source": [
    "# Guillain Barre"
   ]
  },
  {
   "cell_type": "code",
   "execution_count": 10,
   "metadata": {},
   "outputs": [],
   "source": [
    "df_guillain = df.copy()\n",
    "# pesquisa 'guill' em todo o dataframe\n",
    "df_guillain = df.loc[df.apply(lambda row: row.astype(str).str.contains('(?i)guill').any(), axis=1)]\n",
    "# Criando nova coluna para identificação\n",
    "df_guillain['VACINA'] = ''\n",
    "df_guillain['CLASSIFICAÇÃO'] = 'Indefinido'\n",
    "# criar excel para conferencia manial\n",
    "df_guillain.to_excel('Casos/guillain_barre_boletim_06.xlsx', index=False)"
   ]
  },
  {
   "cell_type": "markdown",
   "metadata": {},
   "source": [
    "# Trombose"
   ]
  },
  {
   "cell_type": "code",
   "execution_count": 5,
   "metadata": {},
   "outputs": [],
   "source": [
    "df_trombose = df.copy()\n",
    "# Fazer um lista com os nomes para pesquisa \n",
    "trombose = ['trombo', 'embolia']\n",
    "# Pesquisa {tromboses} em todo o dataframe\n",
    "df_trombose = df_trombose.loc[df_trombose.apply(lambda row: row.astype(str).str.contains('(?i)' + '|'.join(trombose)).any(), axis=1)]\n",
    "# Criando nova coluna para identificação\n",
    "df_trombose['VACINA'] = ''\n",
    "df_trombose['CLASSIFICAÇÃO'] = 'Indefinido'\n",
    "# criar excel para conferencia manial\n",
    "df_trombose.to_excel('Casos/trombose_boletim_06.xlsx', index=False)"
   ]
  },
  {
   "cell_type": "code",
   "execution_count": null,
   "metadata": {},
   "outputs": [],
   "source": []
  }
 ],
 "metadata": {
  "interpreter": {
   "hash": "34d5241c2adb55704af14caadc32b5a89d11e802f3fcb3beb5a89bef81f3322c"
  },
  "kernelspec": {
   "display_name": "Python 3",
   "language": "python",
   "name": "python3"
  },
  "language_info": {
   "codemirror_mode": {
    "name": "ipython",
    "version": 3
   },
   "file_extension": ".py",
   "mimetype": "text/x-python",
   "name": "python",
   "nbconvert_exporter": "python",
   "pygments_lexer": "ipython3",
   "version": "3.8.8"
  }
 },
 "nbformat": 4,
 "nbformat_minor": 2
}
