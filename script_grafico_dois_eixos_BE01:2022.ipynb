{
 "cells": [
  {
   "cell_type": "code",
   "execution_count": 1,
   "id": "433667c6",
   "metadata": {},
   "outputs": [],
   "source": [
    "import pandas as pd\n",
    "import matplotlib.pyplot as plt\n",
    "from datetime import datetime as dt\n",
    "import warnings\n",
    "warnings.filterwarnings(\"ignore\")\n",
    "\n",
    "# Chamar banco vacinas\n",
    "df1 = pd.read_csv('Arquivos/SESRS_VAC_APLICACAO_08_02_2022-08_54.csv', sep=';', encoding='cp1252', usecols=['DATA', 'COUNT'])\n",
    "# Chamar banco EAPV\n",
    "df2 = pd.read_excel('Relatorios/evento_adverso.xlsx', usecols=['DATA DE INICIO'])"
   ]
  },
  {
   "cell_type": "code",
   "execution_count": 2,
   "id": "43bf1e31",
   "metadata": {},
   "outputs": [],
   "source": [
    "# Filtrar dados até 05/02\n",
    "df1 = df1[df1['DATA'] <= '2022-02-05']\n",
    "df2 = df2[df2['DATA DE INICIO'] <= '2022-02-05']"
   ]
  },
  {
   "cell_type": "markdown",
   "id": "9a56330a",
   "metadata": {},
   "source": [
    "TRABALHANDO COM O BANCO VACINADOS"
   ]
  },
  {
   "cell_type": "code",
   "execution_count": 3,
   "id": "dac13ceb",
   "metadata": {},
   "outputs": [
    {
     "data": {
      "text/plain": [
       "20534730"
      ]
     },
     "execution_count": 3,
     "metadata": {},
     "output_type": "execute_result"
    }
   ],
   "source": [
    "df_vacinas = df1.copy()\n",
    "df_vacinas['COUNT'].sum()"
   ]
  },
  {
   "cell_type": "code",
   "execution_count": 4,
   "id": "9ad5d3e3",
   "metadata": {},
   "outputs": [],
   "source": [
    "# transformando em datetime\n",
    "df_vacinas['DATA'] = pd.to_datetime(df_vacinas['DATA'])\n",
    "# separando df de 2021 e 2022\n",
    "# Insert Epidemiology Week number\n",
    "df_vacinas.loc[(df_vacinas['DATA'] < '2022-01-01'), 'SE'] = df_vacinas['DATA'].dt.strftime('2021_' + '%U')\n",
    "df_vacinas.loc[(df_vacinas['DATA'] >= '2022-01-01'), 'SE'] = df_vacinas['DATA'].dt.strftime('2022_' + '%U')"
   ]
  },
  {
   "cell_type": "code",
   "execution_count": 5,
   "id": "5b945e76",
   "metadata": {},
   "outputs": [
    {
     "data": {
      "text/plain": [
       "array(['2022_05', '2022_04', '2022_03', '2021_30', '2021_31', '2021_44',\n",
       "       '2021_45', '2021_46', '2021_47', '2021_48', '2021_49', '2021_50',\n",
       "       '2021_52', '2022_01', '2021_37', '2021_42', '2021_43', '2021_32',\n",
       "       '2021_36', '2021_33', '2021_35', '2021_41', '2021_51', '2022_02',\n",
       "       '2021_29', '2021_38', '2021_34', '2021_39', '2021_40', '2022_00',\n",
       "       '2021_17', '2021_23', '2021_18', '2021_22', '2021_28', '2021_19',\n",
       "       '2021_04', '2021_26', '2021_13', '2021_06', '2021_21', '2021_03',\n",
       "       '2021_27', '2021_24', '2021_25', '2021_12', '2021_11', '2021_09',\n",
       "       '2021_05', '2021_20', '2021_15', '2021_10', '2021_16', '2021_14',\n",
       "       '2021_07', '2021_08'], dtype=object)"
      ]
     },
     "execution_count": 5,
     "metadata": {},
     "output_type": "execute_result"
    }
   ],
   "source": [
    "df_vacinas['SE'].unique()"
   ]
  },
  {
   "cell_type": "code",
   "execution_count": 6,
   "id": "09789698",
   "metadata": {},
   "outputs": [],
   "source": [
    "# tratando o SE_00\n",
    "df_vacinas.loc[df_vacinas['SE'] == '2022_00', 'SE'] = '2021_52'"
   ]
  },
  {
   "cell_type": "code",
   "execution_count": 9,
   "id": "2f13cbd8",
   "metadata": {},
   "outputs": [],
   "source": [
    "# Agrupar o df vacinas por SE (somando a coluna count)\n",
    "df_vacinas = df_vacinas.groupby(by=['SE']).sum().reset_index()"
   ]
  },
  {
   "cell_type": "code",
   "execution_count": 11,
   "id": "dbfb8b30",
   "metadata": {},
   "outputs": [
    {
     "data": {
      "text/html": [
       "<div>\n",
       "<style scoped>\n",
       "    .dataframe tbody tr th:only-of-type {\n",
       "        vertical-align: middle;\n",
       "    }\n",
       "\n",
       "    .dataframe tbody tr th {\n",
       "        vertical-align: top;\n",
       "    }\n",
       "\n",
       "    .dataframe thead th {\n",
       "        text-align: right;\n",
       "    }\n",
       "</style>\n",
       "<table border=\"1\" class=\"dataframe\">\n",
       "  <thead>\n",
       "    <tr style=\"text-align: right;\">\n",
       "      <th></th>\n",
       "      <th>SE</th>\n",
       "      <th>COUNT</th>\n",
       "    </tr>\n",
       "  </thead>\n",
       "  <tbody>\n",
       "    <tr>\n",
       "      <th>0</th>\n",
       "      <td>2021_03</td>\n",
       "      <td>88247</td>\n",
       "    </tr>\n",
       "    <tr>\n",
       "      <th>1</th>\n",
       "      <td>2021_04</td>\n",
       "      <td>99666</td>\n",
       "    </tr>\n",
       "    <tr>\n",
       "      <th>2</th>\n",
       "      <td>2021_05</td>\n",
       "      <td>69355</td>\n",
       "    </tr>\n",
       "    <tr>\n",
       "      <th>3</th>\n",
       "      <td>2021_06</td>\n",
       "      <td>161922</td>\n",
       "    </tr>\n",
       "    <tr>\n",
       "      <th>4</th>\n",
       "      <td>2021_07</td>\n",
       "      <td>131196</td>\n",
       "    </tr>\n",
       "  </tbody>\n",
       "</table>\n",
       "</div>"
      ],
      "text/plain": [
       "        SE   COUNT\n",
       "0  2021_03   88247\n",
       "1  2021_04   99666\n",
       "2  2021_05   69355\n",
       "3  2021_06  161922\n",
       "4  2021_07  131196"
      ]
     },
     "execution_count": 11,
     "metadata": {},
     "output_type": "execute_result"
    }
   ],
   "source": [
    "df_vacinas.head()"
   ]
  },
  {
   "cell_type": "code",
   "execution_count": 34,
   "id": "384ebcba",
   "metadata": {},
   "outputs": [],
   "source": [
    "df_vacinas = df_vacinas.rename(columns={'COUNT':'APLICADAS'})"
   ]
  },
  {
   "cell_type": "markdown",
   "id": "438632ed",
   "metadata": {},
   "source": [
    "TRABALHANDO COM BANCO EVENTOS"
   ]
  },
  {
   "cell_type": "code",
   "execution_count": 39,
   "id": "51d04151",
   "metadata": {},
   "outputs": [],
   "source": [
    "df_eventos = df2.copy()"
   ]
  },
  {
   "cell_type": "code",
   "execution_count": 40,
   "id": "9a5b4fb5",
   "metadata": {},
   "outputs": [],
   "source": [
    "# transformando em datetime\n",
    "df_eventos['DATA DE INICIO'] = pd.to_datetime(df_eventos['DATA DE INICIO'])"
   ]
  },
  {
   "cell_type": "code",
   "execution_count": 41,
   "id": "645d7610",
   "metadata": {},
   "outputs": [],
   "source": [
    "\n",
    "# seprando 2021 e 2022\n",
    "df_eventos.loc[(df_eventos['DATA DE INICIO'] < '2022-01-01'), 'SE'] = df_eventos['DATA DE INICIO'].dt.strftime('2021_' + '%U')\n",
    "df_eventos.loc[(df_eventos['DATA DE INICIO'] >= '2022-01-01'), 'SE'] = df_eventos['DATA DE INICIO'].dt.strftime('2022_' + '%U')"
   ]
  },
  {
   "cell_type": "code",
   "execution_count": 42,
   "id": "d76d2f49",
   "metadata": {},
   "outputs": [
    {
     "data": {
      "text/plain": [
       "array(['2021_42', '2021_43', '2021_40', '2021_25', '2021_44', '2021_29',\n",
       "       '2021_41', '2021_27', '2021_30', '2021_23', '2021_26', '2021_31',\n",
       "       '2021_37', '2021_39', '2021_33', '2021_45', '2021_22', '2021_34',\n",
       "       '2021_38', '2021_32', '2021_46', '2021_17', '2021_14', '2021_28',\n",
       "       '2021_10', '2021_47', '2021_20', '2021_18', '2021_15', '2021_36',\n",
       "       '2021_13', '2021_35', '2021_24', '2021_48', '2021_49', '2021_04',\n",
       "       '2021_50', '2021_05', '2021_51', '2021_07', '2021_08', '2021_09',\n",
       "       '2021_12', '2021_52', '2022_01', '2022_00', '2022_02', '2022_03',\n",
       "       '2022_04', '2022_05', '2021_21', '2021_16', '2021_19', '2021_06',\n",
       "       '2021_03', '2021_11', '2021_01', '2021_00'], dtype=object)"
      ]
     },
     "execution_count": 42,
     "metadata": {},
     "output_type": "execute_result"
    }
   ],
   "source": [
    "df_eventos['SE'].unique()"
   ]
  },
  {
   "cell_type": "code",
   "execution_count": 43,
   "id": "7fea8764",
   "metadata": {},
   "outputs": [],
   "source": [
    "# tratando o SE_00\n",
    "df_eventos.loc[df_eventos['SE'] == '2022_00', 'SE'] = '2021_52'\n",
    "df_eventos = df_eventos[df_eventos['SE'] > '2021_02']\n",
    "df_eventos.dropna(inplace=True)"
   ]
  },
  {
   "cell_type": "code",
   "execution_count": 44,
   "id": "a4cc7e04",
   "metadata": {},
   "outputs": [],
   "source": [
    "# Criar uma coluna EVENTOS\n",
    "# Agrupar o df_eventos por SE somando a EVENTOS\n",
    "df_eventos['EVENTOS'] = 1\n",
    "df_eventos = df_eventos.groupby(by=['SE']).sum().reset_index()"
   ]
  },
  {
   "cell_type": "code",
   "execution_count": 45,
   "id": "b1daba2c",
   "metadata": {},
   "outputs": [
    {
     "data": {
      "text/html": [
       "<div>\n",
       "<style scoped>\n",
       "    .dataframe tbody tr th:only-of-type {\n",
       "        vertical-align: middle;\n",
       "    }\n",
       "\n",
       "    .dataframe tbody tr th {\n",
       "        vertical-align: top;\n",
       "    }\n",
       "\n",
       "    .dataframe thead th {\n",
       "        text-align: right;\n",
       "    }\n",
       "</style>\n",
       "<table border=\"1\" class=\"dataframe\">\n",
       "  <thead>\n",
       "    <tr style=\"text-align: right;\">\n",
       "      <th></th>\n",
       "      <th>SE</th>\n",
       "      <th>EVENTOS</th>\n",
       "    </tr>\n",
       "  </thead>\n",
       "  <tbody>\n",
       "    <tr>\n",
       "      <th>0</th>\n",
       "      <td>2021_03</td>\n",
       "      <td>811</td>\n",
       "    </tr>\n",
       "    <tr>\n",
       "      <th>1</th>\n",
       "      <td>2021_04</td>\n",
       "      <td>5210</td>\n",
       "    </tr>\n",
       "    <tr>\n",
       "      <th>2</th>\n",
       "      <td>2021_05</td>\n",
       "      <td>1932</td>\n",
       "    </tr>\n",
       "    <tr>\n",
       "      <th>3</th>\n",
       "      <td>2021_06</td>\n",
       "      <td>998</td>\n",
       "    </tr>\n",
       "    <tr>\n",
       "      <th>4</th>\n",
       "      <td>2021_07</td>\n",
       "      <td>716</td>\n",
       "    </tr>\n",
       "  </tbody>\n",
       "</table>\n",
       "</div>"
      ],
      "text/plain": [
       "        SE  EVENTOS\n",
       "0  2021_03      811\n",
       "1  2021_04     5210\n",
       "2  2021_05     1932\n",
       "3  2021_06      998\n",
       "4  2021_07      716"
      ]
     },
     "execution_count": 45,
     "metadata": {},
     "output_type": "execute_result"
    }
   ],
   "source": [
    "df_eventos.head()"
   ]
  },
  {
   "cell_type": "markdown",
   "id": "47406a58",
   "metadata": {},
   "source": [
    "FINAL"
   ]
  },
  {
   "cell_type": "code",
   "execution_count": 46,
   "id": "4e9844b9",
   "metadata": {},
   "outputs": [],
   "source": [
    "# juntando banco vacinas e eventos\n",
    "df_final = df_vacinas.merge(df_eventos, on='SE', how='outer')"
   ]
  },
  {
   "cell_type": "code",
   "execution_count": 48,
   "id": "dd8aefeb",
   "metadata": {},
   "outputs": [
    {
     "data": {
      "text/html": [
       "<div>\n",
       "<style scoped>\n",
       "    .dataframe tbody tr th:only-of-type {\n",
       "        vertical-align: middle;\n",
       "    }\n",
       "\n",
       "    .dataframe tbody tr th {\n",
       "        vertical-align: top;\n",
       "    }\n",
       "\n",
       "    .dataframe thead th {\n",
       "        text-align: right;\n",
       "    }\n",
       "</style>\n",
       "<table border=\"1\" class=\"dataframe\">\n",
       "  <thead>\n",
       "    <tr style=\"text-align: right;\">\n",
       "      <th></th>\n",
       "      <th>SE</th>\n",
       "      <th>APLICADAS</th>\n",
       "      <th>EVENTOS</th>\n",
       "      <th>incidencia_1000ds</th>\n",
       "    </tr>\n",
       "  </thead>\n",
       "  <tbody>\n",
       "    <tr>\n",
       "      <th>0</th>\n",
       "      <td>2021_03</td>\n",
       "      <td>88247</td>\n",
       "      <td>811</td>\n",
       "      <td>9.19</td>\n",
       "    </tr>\n",
       "    <tr>\n",
       "      <th>1</th>\n",
       "      <td>2021_04</td>\n",
       "      <td>99666</td>\n",
       "      <td>5210</td>\n",
       "      <td>52.27</td>\n",
       "    </tr>\n",
       "    <tr>\n",
       "      <th>2</th>\n",
       "      <td>2021_05</td>\n",
       "      <td>69355</td>\n",
       "      <td>1932</td>\n",
       "      <td>27.86</td>\n",
       "    </tr>\n",
       "    <tr>\n",
       "      <th>3</th>\n",
       "      <td>2021_06</td>\n",
       "      <td>161922</td>\n",
       "      <td>998</td>\n",
       "      <td>6.16</td>\n",
       "    </tr>\n",
       "    <tr>\n",
       "      <th>4</th>\n",
       "      <td>2021_07</td>\n",
       "      <td>131196</td>\n",
       "      <td>716</td>\n",
       "      <td>5.46</td>\n",
       "    </tr>\n",
       "  </tbody>\n",
       "</table>\n",
       "</div>"
      ],
      "text/plain": [
       "        SE  APLICADAS  EVENTOS  incidencia_1000ds\n",
       "0  2021_03      88247      811               9.19\n",
       "1  2021_04      99666     5210              52.27\n",
       "2  2021_05      69355     1932              27.86\n",
       "3  2021_06     161922      998               6.16\n",
       "4  2021_07     131196      716               5.46"
      ]
     },
     "execution_count": 48,
     "metadata": {},
     "output_type": "execute_result"
    }
   ],
   "source": [
    "# calculo de incidencia\n",
    "df_final['incidencia_1000ds'] = round((df_final['EVENTOS']/df_final['APLICADAS']*1000),2)\n",
    "df_final.head()"
   ]
  },
  {
   "cell_type": "code",
   "execution_count": 49,
   "id": "6e584593",
   "metadata": {},
   "outputs": [
    {
     "data": {
      "image/png": "[encoded data removed]",
      "text/plain": [
       "<Figure size 1080x576 with 2 Axes>"
      ]
     },
     "metadata": {
      "needs_background": "light"
     },
     "output_type": "display_data"
    }
   ],
   "source": [
    "# grafico\n",
    "y1 = df_final['APLICADAS']           # Doses aplicadas\n",
    "y2 = df_final['incidencia_1000ds']   # Incidencia\n",
    "x = df_final['SE']                   # Semana epidemiologica\n",
    "\n",
    "width = 0.50\n",
    "plt.rcParams.update({'font.size':11})\n",
    "fig, ax1 = plt.subplots(figsize = (15, 8))\n",
    "\n",
    "ax1.bar(x, y1, width, color='cornflowerblue', label='Doses Aplicadas', edgecolor='#000000')\n",
    "ax1.set_ylabel('Doses Aplicadas', fontsize=14)\n",
    "\n",
    "ax1.tick_params('x', rotation=90)\n",
    "ax2 = plt.twinx(ax1) #compartilhar o mesmo eixo x\n",
    "\n",
    "ax2.plot(x, y2, linestyle='-', linewidth=2, color='indianred', label='Incidência de EAPV por 1.000 doses aplicadas')\n",
    "ax2.set_ylabel('Incidência de EAPV por 1.000 doses aplicadas', fontsize=14)\n",
    "\n",
    "fig.legend()\n",
    "#fig.legend(loc=\"upper right\", bbox_to_anchor=(0.92,0.98), bbox_transform=ax1.transAxes)\n",
    "plt.grid(axis='y', linewidth=0.3)\n",
    "plt.savefig('Graficos/Figura 1.png', dpi=800, bbox_inches='tight')\n",
    "plt.show()"
   ]
  },
  {
   "cell_type": "code",
   "execution_count": null,
   "id": "560b9a1d",
   "metadata": {},
   "outputs": [],
   "source": []
  }
 ],
 "metadata": {
  "kernelspec": {
   "display_name": "Python 3",
   "language": "python",
   "name": "python3"
  },
  "language_info": {
   "codemirror_mode": {
    "name": "ipython",
    "version": 3
   },
   "file_extension": ".py",
   "mimetype": "text/x-python",
   "name": "python",
   "nbconvert_exporter": "python",
   "pygments_lexer": "ipython3",
   "version": "3.8.8"
  }
 },
 "nbformat": 4,
 "nbformat_minor": 5
}
